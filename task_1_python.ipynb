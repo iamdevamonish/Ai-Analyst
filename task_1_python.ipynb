{
  "cells": [
    {
      "cell_type": "markdown",
      "id": "ad82b35f",
      "metadata": {
        "id": "ad82b35f"
      },
      "source": [
        "'************* TASK 1 *****************'"
      ]
    },
    {
      "cell_type": "code",
      "execution_count": null,
      "id": "7a371d3f",
      "metadata": {
        "id": "7a371d3f",
        "outputId": "efa1f96b-9d7e-463d-be5f-76ea39d4bc2a"
      },
      "outputs": [
        {
          "name": "stdout",
          "output_type": "stream",
          "text": [
            "God bless you\n"
          ]
        }
      ],
      "source": [
        "#1. Print a simple message\n",
        "print('God bless you')"
      ]
    },
    {
      "cell_type": "code",
      "execution_count": null,
      "id": "fe2c536c",
      "metadata": {
        "id": "fe2c536c",
        "outputId": "9e9f628d-41c6-4bd2-9109-1da553e8f588"
      },
      "outputs": [
        {
          "name": "stdout",
          "output_type": "stream",
          "text": [
            "hi,\n",
            "my name is\n",
            "devamonish\n"
          ]
        }
      ],
      "source": [
        "#2. Print multiple lines\n",
        "print('''hi,\n",
        "my name is\n",
        "devamonish''')"
      ]
    },
    {
      "cell_type": "code",
      "execution_count": null,
      "id": "06dc9860",
      "metadata": {
        "id": "06dc9860",
        "outputId": "2614c463-66cf-40de-99c4-c2183498e77f"
      },
      "outputs": [
        {
          "name": "stdout",
          "output_type": "stream",
          "text": [
            "hi devamonish your age is 29\n"
          ]
        }
      ],
      "source": [
        "#3. Print variables in a sentence\n",
        "a = 'hi'\n",
        "b = 'devamonish'\n",
        "c = 29\n",
        "print(a,b,'your age is',c)"
      ]
    },
    {
      "cell_type": "markdown",
      "id": "5b423a08",
      "metadata": {
        "id": "5b423a08"
      },
      "source": [
        "'************* TASK 2 *****************'"
      ]
    },
    {
      "cell_type": "code",
      "execution_count": null,
      "id": "590b98c8",
      "metadata": {
        "id": "590b98c8",
        "outputId": "f1d96de5-3955-4a96-81af-4e0b54e6fa26"
      },
      "outputs": [
        {
          "name": "stdout",
          "output_type": "stream",
          "text": [
            "<class 'float'>\n",
            "<class 'list'>\n",
            "<class 'bool'>\n",
            "<class 'dict'>\n"
          ]
        }
      ],
      "source": [
        "#1. Check Data Types\n",
        "a = 7.98\n",
        "b = [ 'fine', 'God', 1, True]\n",
        "c = True\n",
        "d = {1:'deva', 2:'unseen'}\n",
        "print(type(a))\n",
        "print(type(b))\n",
        "print(type(c))\n",
        "print(type(d))"
      ]
    },
    {
      "cell_type": "code",
      "execution_count": null,
      "id": "356e0035",
      "metadata": {
        "id": "356e0035",
        "outputId": "af2193a7-c813-4410-fef6-68c58a944a92"
      },
      "outputs": [
        {
          "name": "stdout",
          "output_type": "stream",
          "text": [
            "7\n",
            "('like', 'god', 1, True)\n",
            "1.0\n",
            "{'hii', 4, 5, 8, 9}\n"
          ]
        }
      ],
      "source": [
        "#2. Convert Data Types\n",
        "a = 7.98\n",
        "b = [ 'like', 'god', 1, True]\n",
        "c = True\n",
        "d = (4, 4, 5, 9, 8, 'hii')\n",
        "print(int(a))\n",
        "print(tuple(b))\n",
        "print(float(c))\n",
        "print(set(d))"
      ]
    },
    {
      "cell_type": "code",
      "execution_count": null,
      "id": "e517d15d",
      "metadata": {
        "id": "e517d15d",
        "outputId": "a100d3a4-81ce-4fc2-8bac-90c56eb1919b"
      },
      "outputs": [
        {
          "name": "stdout",
          "output_type": "stream",
          "text": [
            "(4, 5, 'durga', True, 55, 1, 2, 'hii', 69)\n"
          ]
        }
      ],
      "source": [
        "#3. Concatenating Different Data types\n",
        "a = (4,5,'durga', True, 55)\n",
        "b = [1,2,'hii', 69]\n",
        "print(a+tuple(b))"
      ]
    },
    {
      "cell_type": "markdown",
      "id": "4877ce24",
      "metadata": {
        "id": "4877ce24"
      },
      "source": [
        "'************* TASK 3 *****************'"
      ]
    },
    {
      "cell_type": "code",
      "execution_count": null,
      "id": "df29dd41",
      "metadata": {
        "id": "df29dd41",
        "outputId": "69b48f2c-6130-4ea7-f924-18c0e9ad96bd"
      },
      "outputs": [
        {
          "name": "stdout",
          "output_type": "stream",
          "text": [
            "9\n",
            "1\n",
            "20\n",
            "1.25\n"
          ]
        }
      ],
      "source": [
        "#1. Basic Arithmetic Operations\n",
        "a = 5\n",
        "b = 4\n",
        "print(a+b)\n",
        "print(a-b)\n",
        "print(a*b)\n",
        "print(a/b)\n"
      ]
    },
    {
      "cell_type": "code",
      "execution_count": null,
      "id": "0b97e4a7",
      "metadata": {
        "id": "0b97e4a7",
        "outputId": "45c77ed3-bc62-4110-ef20-f3c335da40f1"
      },
      "outputs": [
        {
          "name": "stdout",
          "output_type": "stream",
          "text": [
            "0\n",
            "100000\n"
          ]
        }
      ],
      "source": [
        "#2. Modulus and Exponentiation\n",
        "a = 10\n",
        "b = 5\n",
        "print(a%b)\n",
        "print(a**b)"
      ]
    },
    {
      "cell_type": "code",
      "execution_count": null,
      "id": "9881ca6a",
      "metadata": {
        "id": "9881ca6a",
        "outputId": "fa8ca4d8-052c-4319-ddc3-13f003b6ed5d"
      },
      "outputs": [
        {
          "name": "stdout",
          "output_type": "stream",
          "text": [
            "3\n"
          ]
        }
      ],
      "source": [
        "#3. Floor Division\n",
        "print(10//3)"
      ]
    },
    {
      "cell_type": "markdown",
      "id": "57163ea6",
      "metadata": {
        "id": "57163ea6"
      },
      "source": [
        "'************* TASK 4 *****************'"
      ]
    },
    {
      "cell_type": "code",
      "execution_count": null,
      "id": "2221f8ac",
      "metadata": {
        "id": "2221f8ac",
        "outputId": "508a0529-54be-4847-91f0-31beb93e1c68"
      },
      "outputs": [
        {
          "name": "stdout",
          "output_type": "stream",
          "text": [
            "The number is Odd\n",
            " The number is Even\n",
            "The number is Odd\n",
            " The number is Even\n"
          ]
        }
      ],
      "source": [
        "#1. Check if a number is Even or Odd\n",
        "def evenodd(a):\n",
        "    if a == 0 or a%2 == 0:\n",
        "        print(' The number is Even')\n",
        "    else:\n",
        "        print('The number is Odd')\n",
        "\n",
        "evenodd(3)\n",
        "evenodd(70)\n",
        "evenodd(1)\n",
        "evenodd(0)"
      ]
    },
    {
      "cell_type": "code",
      "execution_count": null,
      "id": "b0a5fe4c",
      "metadata": {
        "id": "b0a5fe4c",
        "outputId": "94542549-c9be-4d56-d3de-87197563b5cf"
      },
      "outputs": [
        {
          "name": "stdout",
          "output_type": "stream",
          "text": [
            "B is larger\n",
            "B is larger\n",
            "B is larger\n",
            "c is larger\n"
          ]
        }
      ],
      "source": [
        "#2. Find the Largest number\n",
        "def large(a,b,c):\n",
        "    if a>b and a>c:\n",
        "        print('A is larger')\n",
        "    elif b>c:\n",
        "        print('B is larger')\n",
        "    else:\n",
        "        print('c is larger')\n",
        "\n",
        "large(10,3443,-9999)\n",
        "large(0,0,-9999)\n",
        "large(0,1,-1)\n",
        "large(102,200,201)"
      ]
    },
    {
      "cell_type": "code",
      "execution_count": null,
      "id": "ec6fc9b0",
      "metadata": {
        "id": "ec6fc9b0",
        "outputId": "83226077-df71-4b58-def2-8413b4b4c297"
      },
      "outputs": [
        {
          "name": "stdout",
          "output_type": "stream",
          "text": [
            "U grade\n",
            "A grade\n",
            "E grade\n",
            "O grade\n"
          ]
        }
      ],
      "source": [
        "#3. Grading System\n",
        "def grade(marks):\n",
        "    if marks >= 91:\n",
        "        print('O grade')\n",
        "    elif marks >=81 and marks <= 90:\n",
        "        print('A grade')\n",
        "    elif marks >=71 and marks <= 80:\n",
        "        print('B grade')\n",
        "    elif marks >=61 and marks <= 70:\n",
        "        print('C grade')\n",
        "    elif marks >=51 and marks <= 60:\n",
        "        print('D grade')\n",
        "    elif marks >=40 and marks <= 50:\n",
        "        print('E grade')\n",
        "    else:\n",
        "        print('U grade')\n",
        "\n",
        "grade(10)\n",
        "grade(89)\n",
        "grade(45)\n",
        "grade(98)"
      ]
    },
    {
      "cell_type": "markdown",
      "id": "c5791c00",
      "metadata": {
        "id": "c5791c00"
      },
      "source": [
        "'************* TASK 5 *****************'"
      ]
    },
    {
      "cell_type": "code",
      "execution_count": null,
      "id": "9a66f8a6",
      "metadata": {
        "id": "9a66f8a6",
        "outputId": "9f4c50c8-b9d6-4917-e235-bf5ab587c96d"
      },
      "outputs": [
        {
          "name": "stdout",
          "output_type": "stream",
          "text": [
            "Negative\n",
            "Zero\n",
            "Positive\n",
            "Negative\n"
          ]
        }
      ],
      "source": [
        "#1. Check if a number is postive, Negative, Zero\n",
        "def sign(num):\n",
        "    if num == 0:\n",
        "        print('Zero')\n",
        "    elif num >=1 :\n",
        "        print('Positive')\n",
        "    else:\n",
        "        print('Negative')\n",
        "\n",
        "sign(-10)\n",
        "sign(0)\n",
        "sign(45)\n",
        "sign(-98)"
      ]
    },
    {
      "cell_type": "code",
      "execution_count": null,
      "id": "77e63eaa",
      "metadata": {
        "id": "77e63eaa"
      },
      "outputs": [],
      "source": [
        "#2. Find the Largest number\n",
        "def large(a,b,c):\n",
        "    if a>b and a>c:\n",
        "        print('A is larger')\n",
        "    elif b>c:\n",
        "        print('B is larger')\n",
        "    else:\n",
        "        print('c is larger')\n",
        "\n",
        "large(10,3443,-9999)\n",
        "large(0,0,-9999)\n",
        "large(0,1,-1)\n",
        "large(102,200,201)"
      ]
    },
    {
      "cell_type": "code",
      "execution_count": null,
      "id": "f01d2d59",
      "metadata": {
        "id": "f01d2d59",
        "outputId": "5f51acf6-be30-4f4d-8c9e-e79ecf66eb8e"
      },
      "outputs": [
        {
          "name": "stdout",
          "output_type": "stream",
          "text": [
            "Enter a year: 100\n",
            "Leap Year\n"
          ]
        }
      ],
      "source": [
        "#3. Leap year\n",
        "year = int(input('Enter a year: '))\n",
        "if year % 4 == 0:\n",
        "    print(\"Leap Year\")\n",
        "else:\n",
        "    print(\"Not leap Year\")"
      ]
    },
    {
      "cell_type": "code",
      "execution_count": null,
      "id": "c6beab4a",
      "metadata": {
        "id": "c6beab4a",
        "outputId": "0e8ae686-543d-48b5-d2b4-b9065171db4b"
      },
      "outputs": [
        {
          "name": "stdout",
          "output_type": "stream",
          "text": [
            "Vowel\n",
            "Consonant\n",
            "Vowel\n"
          ]
        }
      ],
      "source": [
        "#4. Check if a character is a vowel or consonant\n",
        "def isvc(a):\n",
        "    l = ['a','e','i','o','u']\n",
        "    if a in l:\n",
        "        print('Vowel')\n",
        "    else:\n",
        "        print('Consonant')\n",
        "\n",
        "isvc('a')\n",
        "isvc('v')\n",
        "isvc('o')"
      ]
    },
    {
      "cell_type": "code",
      "execution_count": null,
      "id": "a718d628",
      "metadata": {
        "id": "a718d628",
        "outputId": "b23e4ce3-ee5b-42dd-d72e-a6fc41a5f15f"
      },
      "outputs": [
        {
          "name": "stdout",
          "output_type": "stream",
          "text": [
            "Enter first number: 5\n",
            "Enter second number: 4\n",
            "Enter sign-\n",
            "1\n"
          ]
        }
      ],
      "source": [
        "#5. Simple calculator\n",
        "a = int(input(\"Enter first number: \"))\n",
        "b = int(input(\"Enter second number: \"))\n",
        "sign = input(\"Enter sign\")\n",
        "if sign == '+':\n",
        "    print(a + b)\n",
        "elif sign == '-':\n",
        "    print(a - b)\n",
        "elif sign == '*':\n",
        "    print(a * b)\n",
        "elif sign == '/':\n",
        "    print(a / b)\n",
        "else:\n",
        "    print(\"Invalid operator!\")\n"
      ]
    },
    {
      "cell_type": "markdown",
      "id": "fc896cf3",
      "metadata": {
        "id": "fc896cf3"
      },
      "source": [
        "'************* TASK 6 *****************'"
      ]
    },
    {
      "cell_type": "code",
      "execution_count": null,
      "id": "9e478b2a",
      "metadata": {
        "id": "9e478b2a",
        "outputId": "9cb7c932-e59b-4bca-b82c-0d4a6a681072"
      },
      "outputs": [
        {
          "name": "stdout",
          "output_type": "stream",
          "text": [
            "1\n",
            "2\n",
            "3\n",
            "4\n",
            "5\n"
          ]
        }
      ],
      "source": [
        "#1. Print numbers from 1 to 5 (for loop)\n",
        "for i in range(1,6):\n",
        "    print(i)"
      ]
    },
    {
      "cell_type": "code",
      "execution_count": null,
      "id": "3efe49a4",
      "metadata": {
        "id": "3efe49a4",
        "outputId": "eff873c4-afa5-41d3-eb20-893f6e98054a"
      },
      "outputs": [
        {
          "name": "stdout",
          "output_type": "stream",
          "text": [
            "2\n",
            "4\n",
            "6\n",
            "8\n",
            "10\n"
          ]
        }
      ],
      "source": [
        "#2. Print Even numbers upto 10 (while loop)\n",
        "a = 2\n",
        "while a <= 10:\n",
        "    print(a)\n",
        "    a = a+2"
      ]
    },
    {
      "cell_type": "code",
      "execution_count": null,
      "id": "64dff4f4",
      "metadata": {
        "id": "64dff4f4",
        "outputId": "ef692606-fbda-4a7a-c005-312ed75fc0c4"
      },
      "outputs": [
        {
          "name": "stdout",
          "output_type": "stream",
          "text": [
            "1\n",
            "hi\n",
            "erik\n",
            "True\n",
            "98\n"
          ]
        }
      ],
      "source": [
        "l = [1 , 'hi', 'erik', True, 98]\n",
        "for i in l:\n",
        "    print(i)"
      ]
    },
    {
      "cell_type": "code",
      "execution_count": null,
      "id": "0388bbe9",
      "metadata": {
        "id": "0388bbe9",
        "outputId": "40defa4b-31da-4543-cb70-8768b0174595"
      },
      "outputs": [
        {
          "name": "stdout",
          "output_type": "stream",
          "text": [
            "2\n",
            "3\n",
            "5\n",
            "7\n",
            "11\n",
            "13\n",
            "17\n",
            "19\n",
            "23\n",
            "29\n",
            "31\n",
            "37\n",
            "41\n",
            "43\n",
            "47\n",
            "53\n",
            "59\n",
            "61\n",
            "67\n",
            "71\n",
            "73\n",
            "79\n",
            "83\n",
            "89\n",
            "97\n"
          ]
        }
      ],
      "source": [
        "#For Loop - intermediate\n",
        "#1. prime number(upto 100)\n",
        "for i in range(2, 101):\n",
        "    for j in range(2, i):\n",
        "        if i % j == 0:\n",
        "            break\n",
        "    else:\n",
        "        print(i)\n"
      ]
    },
    {
      "cell_type": "code",
      "execution_count": null,
      "id": "5657f566",
      "metadata": {
        "id": "5657f566",
        "outputId": "b161d6f2-3dc1-440b-eda4-2f7d73f654e7"
      },
      "outputs": [
        {
          "name": "stdout",
          "output_type": "stream",
          "text": [
            "Enter a number: 5\n",
            "5 × 1 = 5\n",
            "5 × 2 = 10\n",
            "5 × 3 = 15\n",
            "5 × 4 = 20\n",
            "5 × 5 = 25\n",
            "5 × 6 = 30\n",
            "5 × 7 = 35\n",
            "5 × 8 = 40\n",
            "5 × 9 = 45\n",
            "5 × 10 = 50\n"
          ]
        }
      ],
      "source": [
        "#tables\n",
        "num = int(input(\"Enter a number: \"))\n",
        "\n",
        "for i in range(1, 11):\n",
        "    print(num, \"×\", i, \"=\", num * i)\n"
      ]
    },
    {
      "cell_type": "code",
      "execution_count": null,
      "id": "e8e37503",
      "metadata": {
        "id": "e8e37503",
        "outputId": "f8da0071-6d8b-48ee-aab1-7ce29c1e80f4"
      },
      "outputs": [
        {
          "name": "stdout",
          "output_type": "stream",
          "text": [
            "Enter a number: 5\n",
            "120\n"
          ]
        }
      ],
      "source": [
        "#factorial\n",
        "num = int(input(\"Enter a number: \"))\n",
        "fact = 1\n",
        "for i in range(1, num + 1):\n",
        "    fact = fact * i\n",
        "print(fact)\n"
      ]
    },
    {
      "cell_type": "code",
      "execution_count": null,
      "id": "dce43afe",
      "metadata": {
        "id": "dce43afe",
        "outputId": "3ed9a553-6f19-4cea-d5aa-bdef0d225b33"
      },
      "outputs": [
        {
          "name": "stdout",
          "output_type": "stream",
          "text": [
            "2\n",
            "4\n",
            "6\n",
            "8\n",
            "10\n",
            "12\n",
            "14\n",
            "16\n",
            "18\n",
            "20\n",
            "22\n",
            "24\n",
            "26\n",
            "28\n",
            "30\n",
            "32\n",
            "34\n",
            "36\n",
            "38\n",
            "40\n",
            "42\n",
            "44\n",
            "46\n",
            "48\n",
            "50\n"
          ]
        }
      ],
      "source": [
        "#even numbers upto 50\n",
        "for i in range(2, 51, 2):\n",
        "    print(i)\n"
      ]
    },
    {
      "cell_type": "markdown",
      "id": "499b060b",
      "metadata": {
        "id": "499b060b"
      },
      "source": [
        "'************* TASK 7 *****************'"
      ]
    },
    {
      "cell_type": "code",
      "execution_count": null,
      "id": "b25b9245",
      "metadata": {
        "id": "b25b9245"
      },
      "outputs": [],
      "source": [
        "#String Basics"
      ]
    },
    {
      "cell_type": "code",
      "execution_count": null,
      "id": "b121ecdf",
      "metadata": {
        "id": "b121ecdf",
        "outputId": "6d92c357-64fc-42a3-cc33-69411078b766"
      },
      "outputs": [
        {
          "name": "stdout",
          "output_type": "stream",
          "text": [
            "devamonish\n"
          ]
        }
      ],
      "source": [
        "#1. Concatenate 2 strings:\n",
        "a = 'deva'\n",
        "b = 'monish'\n",
        "print(a+b)"
      ]
    },
    {
      "cell_type": "code",
      "execution_count": null,
      "id": "a92f3d70",
      "metadata": {
        "id": "a92f3d70",
        "outputId": "fe678fc0-246e-46c6-af86-dbfed4c9c6e2"
      },
      "outputs": [
        {
          "name": "stdout",
          "output_type": "stream",
          "text": [
            "DURGA\n"
          ]
        }
      ],
      "source": [
        "#2. Convert string to Uppercase\n",
        "a = 'durga'.upper()\n",
        "print(a)"
      ]
    },
    {
      "cell_type": "code",
      "execution_count": null,
      "id": "740f3dfd",
      "metadata": {
        "id": "740f3dfd",
        "outputId": "1af1f245-a362-4588-b9b4-e4c366333f01"
      },
      "outputs": [
        {
          "name": "stdout",
          "output_type": "stream",
          "text": [
            "8\n"
          ]
        }
      ],
      "source": [
        "#3.Find length of a string\n",
        "a = 'dinosaur'\n",
        "print(len(a))"
      ]
    },
    {
      "cell_type": "markdown",
      "id": "5275e03c",
      "metadata": {
        "id": "5275e03c"
      },
      "source": [
        "'************* TASK 8 *****************'"
      ]
    },
    {
      "cell_type": "code",
      "execution_count": null,
      "id": "54e4e012",
      "metadata": {
        "id": "54e4e012",
        "outputId": "662d1536-b333-4304-eb08-52a35ebb2884"
      },
      "outputs": [
        {
          "name": "stdout",
          "output_type": "stream",
          "text": [
            "dinos\n",
            "saur\n",
            "ruasonid\n"
          ]
        }
      ],
      "source": [
        "a = 'dinosaur'\n",
        "print(a[0:5])\n",
        "print(a[-4:])\n",
        "print(a[::-1])"
      ]
    },
    {
      "cell_type": "markdown",
      "id": "7c81734d",
      "metadata": {
        "id": "7c81734d"
      },
      "source": [
        "********Data Structures**********`"
      ]
    },
    {
      "cell_type": "code",
      "execution_count": null,
      "id": "a718ffa2",
      "metadata": {
        "id": "a718ffa2",
        "outputId": "7d6ed2a3-0cb6-4c1e-b70a-1ff0c8e69ed1"
      },
      "outputs": [
        {
          "name": "stdout",
          "output_type": "stream",
          "text": [
            "moni\n",
            "6.5\n",
            "['moni', ' raizel', 1, 6.5, 'deva']\n"
          ]
        },
        {
          "data": {
            "text/plain": [
              "['moni', ' raizel', 6.5, 'deva']"
            ]
          },
          "execution_count": 15,
          "metadata": {},
          "output_type": "execute_result"
        }
      ],
      "source": [
        "#Lists\n",
        "#1. Create and acess a list\n",
        "l = ['moni', ' raizel', 1, 6.5]\n",
        "print(l[0])\n",
        "print(l[-1])\n",
        "#2. Append an item to a list\n",
        "l.append('deva')\n",
        "print(l)\n",
        "#3. Remove an item from a list\n",
        "l.remove(1)\n",
        "l"
      ]
    },
    {
      "cell_type": "code",
      "execution_count": null,
      "id": "d29336e7",
      "metadata": {
        "id": "d29336e7",
        "outputId": "1ec7bd09-8f3d-411a-ee9f-161799f89ddf"
      },
      "outputs": [
        {
          "name": "stdout",
          "output_type": "stream",
          "text": [
            "like\n",
            "True\n",
            "2\n",
            "1\n"
          ]
        }
      ],
      "source": [
        "#Tuples\n",
        "#1. create and access tuple elements\n",
        "t = (1, 'like', 98.8, 'True', 1, 98.8)\n",
        "print(t[1])\n",
        "print(t[3])\n",
        "#2. Count occurrences of an element in a tuple\n",
        "print(t.count(98.8))\n",
        "#3. Find index of an element\n",
        "print(t.index('like'))"
      ]
    },
    {
      "cell_type": "code",
      "execution_count": null,
      "id": "ac98db97",
      "metadata": {
        "id": "ac98db97",
        "outputId": "63138ac7-ff0e-4dcc-916a-9b2dcd2f80e7"
      },
      "outputs": [
        {
          "name": "stdout",
          "output_type": "stream",
          "text": [
            "moni\n",
            "{1: 'moni', 2: 'deva', 3: 200, 4: 'rai'}\n",
            "{2: 'deva', 3: 200, 4: 'rai'}\n"
          ]
        }
      ],
      "source": [
        "#Dictionary\n",
        "#1. Create and access a dictionary\n",
        "d = {1:'moni', 2:'deva', 3:200}\n",
        "print(d[1])\n",
        "#2. Add a new key value pair\n",
        "d[4] = 'rai'\n",
        "print(d)\n",
        "#3. remove a key value pair\n",
        "d.pop(1)\n",
        "print(d)"
      ]
    },
    {
      "cell_type": "code",
      "execution_count": null,
      "id": "edc014d1",
      "metadata": {
        "id": "edc014d1",
        "outputId": "21b29019-d58b-4064-ef6c-ebd263d5860f"
      },
      "outputs": [
        {
          "name": "stdout",
          "output_type": "stream",
          "text": [
            "{2, 2.3, 4, 98, 23, 9, 12}\n",
            "2\n",
            "2.3\n",
            "4\n",
            "98\n",
            "23\n",
            "9\n",
            "12\n"
          ]
        }
      ],
      "source": [
        "#Sets\n",
        "#1. Create a set and print its ellements\n",
        "s = {2, 4, 98, 9, 12, 23, 2.3}\n",
        "print(s)\n",
        "for i in s:\n",
        "    print(i)"
      ]
    },
    {
      "cell_type": "code",
      "execution_count": null,
      "id": "c139b75b",
      "metadata": {
        "id": "c139b75b",
        "outputId": "63b42c9f-8dbc-49d7-c9b1-006460c7d0bb"
      },
      "outputs": [
        {
          "name": "stdout",
          "output_type": "stream",
          "text": [
            "{1, 3, 4, 99, 7, 9, 10, 44, 77, 76}\n",
            "{9, 7}\n"
          ]
        }
      ],
      "source": [
        "#2,3 union and intersection:\n",
        "s1 = {1, 3, 4, 7, 9, 10}\n",
        "s2 = {7, 44, 77, 99, 9, 76}\n",
        "print(s1.union(s2))\n",
        "print(s1.intersection(s2))"
      ]
    },
    {
      "cell_type": "markdown",
      "id": "a76422e4",
      "metadata": {
        "id": "a76422e4"
      },
      "source": [
        "#Functions:"
      ]
    },
    {
      "cell_type": "code",
      "execution_count": null,
      "id": "78755250",
      "metadata": {
        "id": "78755250",
        "outputId": "834efcfc-fc7b-4c85-a4aa-bbb8034712e4"
      },
      "outputs": [
        {
          "name": "stdout",
          "output_type": "stream",
          "text": [
            "sum is 19\n"
          ]
        }
      ],
      "source": [
        "#1. Craete a function that adds two numbers:\n",
        "def add(a,b):\n",
        "    print('sum is', a+b)\n",
        "\n",
        "add(9,10)"
      ]
    },
    {
      "cell_type": "code",
      "execution_count": null,
      "id": "de75587b",
      "metadata": {
        "id": "de75587b",
        "outputId": "c9e8bfb6-e836-4af3-bf70-873ee0bf4854"
      },
      "outputs": [
        {
          "name": "stdout",
          "output_type": "stream",
          "text": [
            "Even\n",
            "Odd\n",
            "Even\n"
          ]
        }
      ],
      "source": [
        "#2. Function that checks if a number is even or odd\n",
        "def evenodd(a):\n",
        "    if a%2 == 0:\n",
        "        print('Even')\n",
        "    else:\n",
        "        print('Odd')\n",
        "\n",
        "evenodd(2)\n",
        "evenodd(9)\n",
        "evenodd(0)"
      ]
    },
    {
      "cell_type": "code",
      "execution_count": null,
      "id": "c6117cf3",
      "metadata": {
        "id": "c6117cf3",
        "outputId": "f35ef5d4-32a3-4b9c-9e65-243121539e6d"
      },
      "outputs": [
        {
          "name": "stdout",
          "output_type": "stream",
          "text": [
            "hi moni\n",
            "hi deva\n"
          ]
        }
      ],
      "source": [
        "#3. Function with default parameter\n",
        "def msg(a = 'moni'):\n",
        "    print('hi',a)\n",
        "msg()\n",
        "msg('deva')"
      ]
    },
    {
      "cell_type": "markdown",
      "id": "5aca62ed",
      "metadata": {
        "id": "5aca62ed"
      },
      "source": [
        "'exception handling'"
      ]
    },
    {
      "cell_type": "code",
      "execution_count": null,
      "id": "fe40e2a5",
      "metadata": {
        "colab": {
          "base_uri": "https://localhost:8080/"
        },
        "id": "fe40e2a5",
        "outputId": "b90ec639-f537-4a29-b121-f8a4d39d33ec"
      },
      "outputs": [
        {
          "output_type": "stream",
          "name": "stdout",
          "text": [
            " cannot be divided\n"
          ]
        }
      ],
      "source": [
        "#1. Handlle division by zero\n",
        "try:\n",
        "    div = 10 / 0\n",
        "    print(div)\n",
        "except ZeroDivisionError:\n",
        "    print(' cannot be divided')\n",
        "\n"
      ]
    },
    {
      "cell_type": "code",
      "execution_count": null,
      "id": "7d3b1bcc",
      "metadata": {
        "id": "7d3b1bcc",
        "outputId": "bf130853-7fd5-4ac4-e7be-3852f17f7063"
      },
      "outputs": [
        {
          "name": "stdout",
          "output_type": "stream",
          "text": [
            "Enter your age: okoji\n",
            "enter valid number\n"
          ]
        }
      ],
      "source": [
        "#2. Hndle invalid input\n",
        "try:\n",
        "    age = int(input('Enter age: '))\n",
        "    print('age is:', age)\n",
        "except ValueError:\n",
        "    print(\"enter valid number\")\n"
      ]
    },
    {
      "cell_type": "code",
      "execution_count": null,
      "id": "44a15dc7",
      "metadata": {
        "colab": {
          "base_uri": "https://localhost:8080/"
        },
        "id": "44a15dc7",
        "outputId": "3c716ae7-ad6c-45f7-b4f7-8f3249049a21"
      },
      "outputs": [
        {
          "output_type": "stream",
          "name": "stdout",
          "text": [
            "error\n"
          ]
        }
      ],
      "source": [
        "#3. Handle keyerror in a dict\n",
        "d = {1: 'rai', 2: 'moni'}\n",
        "try:\n",
        "    print(d[3])\n",
        "except KeyError:\n",
        "    print('error')\n"
      ]
    },
    {
      "cell_type": "code",
      "execution_count": null,
      "id": "9b08c864",
      "metadata": {
        "id": "9b08c864"
      },
      "outputs": [],
      "source": []
    }
  ],
  "metadata": {
    "kernelspec": {
      "display_name": "Python 3 (ipykernel)",
      "language": "python",
      "name": "python3"
    },
    "language_info": {
      "codemirror_mode": {
        "name": "ipython",
        "version": 3
      },
      "file_extension": ".py",
      "mimetype": "text/x-python",
      "name": "python",
      "nbconvert_exporter": "python",
      "pygments_lexer": "ipython3",
      "version": "3.11.5"
    },
    "colab": {
      "provenance": []
    }
  },
  "nbformat": 4,
  "nbformat_minor": 5
}